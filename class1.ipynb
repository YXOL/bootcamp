{
 "cells": [
  {
   "cell_type": "code",
   "execution_count": 1,
   "metadata": {},
   "outputs": [
    {
     "name": "stdout",
     "output_type": "stream",
     "text": [
      "hello, world\n"
     ]
    }
   ],
   "source": [
    "#everything after this symbol is comment which mans it will not be executed\n",
    "print(\"hello, world\")"
   ]
  },
  {
   "cell_type": "code",
   "execution_count": 2,
   "metadata": {},
   "outputs": [
    {
     "name": "stdout",
     "output_type": "stream",
     "text": [
      "10\n"
     ]
    }
   ],
   "source": [
    "#this is a variable\n",
    "x=10\n",
    "print(x)"
   ]
  },
  {
   "cell_type": "code",
   "execution_count": 3,
   "metadata": {},
   "outputs": [
    {
     "name": "stdout",
     "output_type": "stream",
     "text": [
      "John\n"
     ]
    },
    {
     "data": {
      "text/plain": [
       "'\\nwhen you create a variable, \\nth line where you assign the value is a step called DECLARATION.\\nSAY:\\nwe\\'ve just declared a variable with a name of \"first_name\", \\nand assigned it the value of the string data type \"John\".\\nnow this string is stored in memory, and we\\'re able to access it by calling the variable name \"first_name\"\\nN.B., variable name CANNOT start with a number!!\\n'"
      ]
     },
     "execution_count": 3,
     "metadata": {},
     "output_type": "execute_result"
    }
   ],
   "source": [
    "#week 2\n",
    "# comments & basic data types\n",
    "\"\"\"\n",
    "this is a \n",
    "multiline\n",
    "comments! :)\n",
    "\"\"\"\n",
    "# how variable work in python:\n",
    "first_name = \"John\" #declare the name of the variable on the LEFT side of the equals operator (\"=\"), and on the right side we assign value that we want to save to use later\n",
    "print(first_name)\n",
    "\"\"\"\n",
    "when you create a variable, \n",
    "th line where you assign the value is a step called DECLARATION.\n",
    "SAY:\n",
    "we've just declared a variable with a name of \"first_name\", \n",
    "and assigned it the value of the string data type \"John\".\n",
    "now this string is stored in memory, and we're able to access it by calling the variable name \"first_name\"\n",
    "N.B., variable name CANNOT start with a number!!\n",
    "\"\"\""
   ]
  },
  {
   "cell_type": "code",
   "execution_count": null,
   "metadata": {},
   "outputs": [],
   "source": [
    "#creating a program: guessing game\n",
    "from random import randint\n",
    "from IPython.display import clear_output\n",
    "guessed = False\n",
    "number = randint(0, 100)\n",
    "guesses = 0\n",
    "while not guessed:\n",
    "    ans = input(\"try to guess the number I am thinking of\")\n",
    "    guesses +=1\n",
    "    clear_output( )\n",
    "    if int(ans) == number:\n",
    "        print(\"congrats! you guessed it correctly.\")\n",
    "        print(\"it took you { } guesses!\".format(guesses))\n",
    "        break\n",
    "    elif int(ans) > number:\n",
    "        print(\"The number is lower than what you guessed.\")\n",
    "    elif int(ans) < number:\n",
    "        print(\"The number is greater than what you guessed.\")"
   ]
  },
  {
   "cell_type": "code",
   "execution_count": 1,
   "metadata": {},
   "outputs": [
    {
     "name": "stdout",
     "output_type": "stream",
     "text": [
      "Requirement already satisfied: ipykernel in c:\\users\\yxuu6\\anaconda3\\envs\\bootcamp\\lib\\site-packages (6.29.5)\n",
      "Requirement already satisfied: comm>=0.1.1 in c:\\users\\yxuu6\\anaconda3\\envs\\bootcamp\\lib\\site-packages (from ipykernel) (0.2.2)\n",
      "Requirement already satisfied: debugpy>=1.6.5 in c:\\users\\yxuu6\\anaconda3\\envs\\bootcamp\\lib\\site-packages (from ipykernel) (1.8.13)\n",
      "Requirement already satisfied: ipython>=7.23.1 in c:\\users\\yxuu6\\anaconda3\\envs\\bootcamp\\lib\\site-packages (from ipykernel) (8.34.0)\n",
      "Requirement already satisfied: jupyter-client>=6.1.12 in c:\\users\\yxuu6\\anaconda3\\envs\\bootcamp\\lib\\site-packages (from ipykernel) (8.6.3)\n",
      "Requirement already satisfied: jupyter-core!=5.0.*,>=4.12 in c:\\users\\yxuu6\\anaconda3\\envs\\bootcamp\\lib\\site-packages (from ipykernel) (5.7.2)\n",
      "Requirement already satisfied: matplotlib-inline>=0.1 in c:\\users\\yxuu6\\anaconda3\\envs\\bootcamp\\lib\\site-packages (from ipykernel) (0.1.7)\n",
      "Requirement already satisfied: nest-asyncio in c:\\users\\yxuu6\\anaconda3\\envs\\bootcamp\\lib\\site-packages (from ipykernel) (1.6.0)\n",
      "Requirement already satisfied: packaging in c:\\users\\yxuu6\\anaconda3\\envs\\bootcamp\\lib\\site-packages (from ipykernel) (24.2)\n",
      "Requirement already satisfied: psutil in c:\\users\\yxuu6\\anaconda3\\envs\\bootcamp\\lib\\site-packages (from ipykernel) (7.0.0)\n",
      "Requirement already satisfied: pyzmq>=24 in c:\\users\\yxuu6\\anaconda3\\envs\\bootcamp\\lib\\site-packages (from ipykernel) (26.3.0)\n",
      "Requirement already satisfied: tornado>=6.1 in c:\\users\\yxuu6\\anaconda3\\envs\\bootcamp\\lib\\site-packages (from ipykernel) (6.4.2)\n",
      "Requirement already satisfied: traitlets>=5.4.0 in c:\\users\\yxuu6\\anaconda3\\envs\\bootcamp\\lib\\site-packages (from ipykernel) (5.14.3)\n",
      "Requirement already satisfied: colorama in c:\\users\\yxuu6\\anaconda3\\envs\\bootcamp\\lib\\site-packages (from ipython>=7.23.1->ipykernel) (0.4.6)\n",
      "Requirement already satisfied: decorator in c:\\users\\yxuu6\\anaconda3\\envs\\bootcamp\\lib\\site-packages (from ipython>=7.23.1->ipykernel) (5.2.1)\n",
      "Requirement already satisfied: exceptiongroup in c:\\users\\yxuu6\\anaconda3\\envs\\bootcamp\\lib\\site-packages (from ipython>=7.23.1->ipykernel) (1.2.2)\n",
      "Requirement already satisfied: jedi>=0.16 in c:\\users\\yxuu6\\anaconda3\\envs\\bootcamp\\lib\\site-packages (from ipython>=7.23.1->ipykernel) (0.19.2)\n",
      "Requirement already satisfied: prompt_toolkit<3.1.0,>=3.0.41 in c:\\users\\yxuu6\\anaconda3\\envs\\bootcamp\\lib\\site-packages (from ipython>=7.23.1->ipykernel) (3.0.50)\n",
      "Requirement already satisfied: pygments>=2.4.0 in c:\\users\\yxuu6\\anaconda3\\envs\\bootcamp\\lib\\site-packages (from ipython>=7.23.1->ipykernel) (2.19.1)\n",
      "Requirement already satisfied: stack_data in c:\\users\\yxuu6\\anaconda3\\envs\\bootcamp\\lib\\site-packages (from ipython>=7.23.1->ipykernel) (0.6.3)\n",
      "Requirement already satisfied: typing_extensions>=4.6 in c:\\users\\yxuu6\\anaconda3\\envs\\bootcamp\\lib\\site-packages (from ipython>=7.23.1->ipykernel) (4.12.2)\n",
      "Requirement already satisfied: python-dateutil>=2.8.2 in c:\\users\\yxuu6\\anaconda3\\envs\\bootcamp\\lib\\site-packages (from jupyter-client>=6.1.12->ipykernel) (2.9.0.post0)\n",
      "Requirement already satisfied: platformdirs>=2.5 in c:\\users\\yxuu6\\anaconda3\\envs\\bootcamp\\lib\\site-packages (from jupyter-core!=5.0.*,>=4.12->ipykernel) (4.3.7)\n",
      "Requirement already satisfied: pywin32>=300 in c:\\users\\yxuu6\\anaconda3\\envs\\bootcamp\\lib\\site-packages (from jupyter-core!=5.0.*,>=4.12->ipykernel) (307)\n",
      "Requirement already satisfied: parso<0.9.0,>=0.8.4 in c:\\users\\yxuu6\\anaconda3\\envs\\bootcamp\\lib\\site-packages (from jedi>=0.16->ipython>=7.23.1->ipykernel) (0.8.4)\n",
      "Requirement already satisfied: wcwidth in c:\\users\\yxuu6\\anaconda3\\envs\\bootcamp\\lib\\site-packages (from prompt_toolkit<3.1.0,>=3.0.41->ipython>=7.23.1->ipykernel) (0.2.13)\n",
      "Requirement already satisfied: six>=1.5 in c:\\users\\yxuu6\\anaconda3\\envs\\bootcamp\\lib\\site-packages (from python-dateutil>=2.8.2->jupyter-client>=6.1.12->ipykernel) (1.17.0)\n",
      "Requirement already satisfied: executing>=1.2.0 in c:\\users\\yxuu6\\anaconda3\\envs\\bootcamp\\lib\\site-packages (from stack_data->ipython>=7.23.1->ipykernel) (2.1.0)\n",
      "Requirement already satisfied: asttokens>=2.1.0 in c:\\users\\yxuu6\\anaconda3\\envs\\bootcamp\\lib\\site-packages (from stack_data->ipython>=7.23.1->ipykernel) (3.0.0)\n",
      "Requirement already satisfied: pure_eval in c:\\users\\yxuu6\\anaconda3\\envs\\bootcamp\\lib\\site-packages (from stack_data->ipython>=7.23.1->ipykernel) (0.2.3)\n",
      "Note: you may need to restart the kernel to use updated packages.\n"
     ]
    }
   ],
   "source": [
    "pip install -U ipykernel"
   ]
  },
  {
   "cell_type": "code",
   "execution_count": 2,
   "metadata": {},
   "outputs": [
    {
     "data": {
      "text/plain": [
       "float"
      ]
     },
     "execution_count": 2,
     "metadata": {},
     "output_type": "execute_result"
    }
   ],
   "source": [
    "type(1.0)"
   ]
  },
  {
   "cell_type": "code",
   "execution_count": 5,
   "metadata": {},
   "outputs": [
    {
     "name": "stdout",
     "output_type": "stream",
     "text": [
      "John\n",
      "Sam\n"
     ]
    }
   ],
   "source": [
    "# defining a variable and overwriting it's value\n",
    "name = 'John'\n",
    "print(name)\n",
    "name = 'Sam'\n",
    "print(name)"
   ]
  },
  {
   "cell_type": "code",
   "execution_count": 7,
   "metadata": {},
   "outputs": [
    {
     "name": "stdout",
     "output_type": "stream",
     "text": [
      "13\n"
     ]
    }
   ],
   "source": [
    "x = 3\n",
    "y = 10\n",
    "result = x + y\n",
    "print(result)"
   ]
  },
  {
   "cell_type": "code",
   "execution_count": 9,
   "metadata": {},
   "outputs": [
    {
     "name": "stdout",
     "output_type": "stream",
     "text": [
      "3354.0764\n"
     ]
    }
   ],
   "source": [
    "width = 245.54\n",
    "height = 13.66\n",
    "area = width * height\n",
    "print(area)"
   ]
  },
  {
   "cell_type": "code",
   "execution_count": 32,
   "metadata": {},
   "outputs": [
    {
     "name": "stdout",
     "output_type": "stream",
     "text": [
      "1\n",
      "Look over that way othnah\n",
      "John    $ over\n"
     ]
    }
   ],
   "source": [
    "# finding the starting index of our searched term\n",
    "s = \"Look over that way othnah\"\n",
    "print(s.find(\"o\"))\n",
    "print(s.rstrip(\"over\"))\n",
    "name = \"    John    $ over   \"\n",
    "print(name.strip( ))"
   ]
  },
  {
   "cell_type": "code",
   "execution_count": 1,
   "metadata": {},
   "outputs": [
    {
     "name": "stdout",
     "output_type": "stream",
     "text": [
      "**************************************************\n",
      "\t\tCoding Temple, Inc.\n",
      "\t\t283 Franklin St.\n",
      "\t\tBoston, MA\n",
      "==================================================\n",
      "\tProduct Name\tProduct Price\n",
      "\tBooks\t\t$49.95\n",
      "\tComputer\t\t$579.99\n",
      "\tMonitor\t\t$124.89\n",
      "==================================================\n",
      "\t\t\tTotal\n",
      "\t\t\t$754.83\n",
      "==================================================\n",
      "\n",
      "\tThanks for shopping with us today!\n",
      "\n",
      "**************************************************\n"
     ]
    }
   ],
   "source": [
    "# friday project: printing receipts\n",
    "# step 1: create a product and a price for each item\n",
    "p1_name, p1_price = \"Books\", 49.95\n",
    "p2_name, p2_price = \"Computer\", 579.99\n",
    "p3_name, p3_price = \"Monitor\", 124.89\n",
    "# create a company name and information\n",
    "company_name = \"coding temple, inc.\"\n",
    "company_address = \"283 Franklin St.\"\n",
    "company_city = \"Boston, MA\"\n",
    "# declare ending message\n",
    "message = \"Thanks for shopping with us today!\"\n",
    "# create a top border\n",
    "print( \"*\" * 50 )\n",
    "# print company information first, using format\n",
    "print( \"\\t\\t{}\".format(company_name.title()))\n",
    "print( \"\\t\\t{}\".format(company_address))\n",
    "print( \"\\t\\t{}\".format(company_city))\n",
    "# print a line between sections\n",
    "print( \"=\" * 50 )\n",
    "# print out header for section of items\n",
    "print(\"\\tProduct Name\\tProduct Price\")\n",
    "# create a print statement for each product\n",
    "print( \"\\t{}\\t\\t${}\".format(p1_name.title( ), p1_price) )\n",
    "print( \"\\t{}\\t\\t${}\".format(p2_name.title( ), p2_price) )\n",
    "print( \"\\t{}\\t\\t${}\".format(p3_name.title( ), p3_price) )\n",
    "# print a line between sections\n",
    "print('=' * 50)\n",
    "# print out header for section of total\n",
    "print(\"\\t\\t\\tTotal\")\n",
    "# calculate total price and print out\n",
    "total = p1_price + p2_price + p3_price\n",
    "print( \"\\t\\t\\t${}\".format(total) )\n",
    "# print a line between sections\n",
    "print( \"=\" * 50)\n",
    "# output thank you message\n",
    "print( \"\\n\\t{}\\n\".format(message) )\n",
    "# create a bottom border\n",
    "print( \"*\" * 50 )"
   ]
  },
  {
   "cell_type": "code",
   "execution_count": 2,
   "metadata": {},
   "outputs": [
    {
     "name": "stdout",
     "output_type": "stream",
     "text": [
      "yijia\n"
     ]
    }
   ],
   "source": [
    "print( input(\"What is your name? \") )"
   ]
  }
 ],
 "metadata": {
  "kernelspec": {
   "display_name": "bootcamp",
   "language": "python",
   "name": "python3"
  },
  "language_info": {
   "codemirror_mode": {
    "name": "ipython",
    "version": 3
   },
   "file_extension": ".py",
   "mimetype": "text/x-python",
   "name": "python",
   "nbconvert_exporter": "python",
   "pygments_lexer": "ipython3",
   "version": "3.10.16"
  }
 },
 "nbformat": 4,
 "nbformat_minor": 2
}
