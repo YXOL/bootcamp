{
 "cells": [
  {
   "cell_type": "code",
   "execution_count": null,
   "id": "735169bb",
   "metadata": {},
   "outputs": [
    {
     "name": "stdout",
     "output_type": "stream",
     "text": [
      "Hello, my name is YIjia Xu and I'm 24 years old.\n"
     ]
    }
   ],
   "source": [
    "# challenge 1: variable assignment and output\n",
    "name = \"YIjia Xu\"\n",
    "age = \"24\"\n",
    "print(\"Hello, my name is {} and I'm {} years old.\".format(name, age))"
   ]
  },
  {
   "cell_type": "code",
   "execution_count": null,
   "id": "e061dd0a",
   "metadata": {},
   "outputs": [
    {
     "name": "stdout",
     "output_type": "stream",
     "text": [
      "<class 'str'>\n",
      "<class 'int'>\n",
      "<class 'float'>\n"
     ]
    }
   ],
   "source": [
    "# challenge 2: checking the type of the variables\n",
    "greetings = \"Hi\"\n",
    "print(type(greetings))\n",
    "year_born = 2001\n",
    "print(type(year_born))\n",
    "height_in_meters = 1.68\n",
    "print(type(height_in_meters))"
   ]
  },
  {
   "cell_type": "code",
   "execution_count": null,
   "id": "6a5d45c7",
   "metadata": {},
   "outputs": [
    {
     "name": "stdout",
     "output_type": "stream",
     "text": [
      "the total cost for 3 kg apple is 14.700000000000001 dollars\n"
     ]
    }
   ],
   "source": [
    "# challenge 3: variable naming and Arithmetic Operations\n",
    "price_apple = 4.9\n",
    "num_apple_in_kg = 3\n",
    "total_cost = price_apple * num_apple_in_kg\n",
    "print(\"the total cost for {} kg apple is {} dollars\".format(num_apple_in_kg, total_cost))"
   ]
  },
  {
   "cell_type": "code",
   "execution_count": null,
   "id": "37423b9e",
   "metadata": {},
   "outputs": [
    {
     "name": "stdout",
     "output_type": "stream",
     "text": [
      "my current age is 24.\n",
      "my age after 5 years will be 29.\n"
     ]
    }
   ],
   "source": [
    "# challenge 4: updating variables\n",
    "current_age = 24\n",
    "print(\"my current age is {}.\".format(current_age))\n",
    "print(\"my age after 5 years will be {}.\".format(current_age + 5))"
   ]
  },
  {
   "cell_type": "code",
   "execution_count": null,
   "id": "114610fd",
   "metadata": {},
   "outputs": [
    {
     "name": "stdout",
     "output_type": "stream",
     "text": [
      "After swapping: x = 20 y = 10\n"
     ]
    }
   ],
   "source": [
    "# challenge 5: swapping variables\n",
    "x = 10\n",
    "y = 20\n",
    "\n",
    "# Swap\n",
    "x = x + y\n",
    "y = x - y\n",
    "x = x - y\n",
    "\n",
    "print(\"After swapping: x =\", x, \"y =\", y)\n"
   ]
  }
 ],
 "metadata": {
  "kernelspec": {
   "display_name": "bootcamp",
   "language": "python",
   "name": "python3"
  },
  "language_info": {
   "codemirror_mode": {
    "name": "ipython",
    "version": 3
   },
   "file_extension": ".py",
   "mimetype": "text/x-python",
   "name": "python",
   "nbconvert_exporter": "python",
   "pygments_lexer": "ipython3",
   "version": "3.10.16"
  }
 },
 "nbformat": 4,
 "nbformat_minor": 5
}
