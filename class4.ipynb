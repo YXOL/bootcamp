{
 "cells": [
  {
   "cell_type": "code",
   "execution_count": 15,
   "id": "b634bdfa",
   "metadata": {},
   "outputs": [
    {
     "name": "stdout",
     "output_type": "stream",
     "text": [
      "valid age\n"
     ]
    }
   ],
   "source": [
    "# challenge 5: conditional with error handling\n",
    "# use try&except to make sure your conde wont break\n",
    "user_age = input(\"Please input your age in number: \")\n",
    "try:\n",
    "    if int(user_age) >= 0 and int(user_age) < 121:      #check valid age & valid input\n",
    "        print(\"valid age\")\n",
    "    else:\n",
    "        print(\"age out of range\")\n",
    "except:\n",
    "    print(\"Invalid input. Please enter a valid number.\")\n"
   ]
  },
  {
   "cell_type": "code",
   "execution_count": 13,
   "id": "9f5da54c",
   "metadata": {},
   "outputs": [
    {
     "name": "stdout",
     "output_type": "stream",
     "text": [
      "you are eligible for the loan\n"
     ]
    }
   ],
   "source": [
    "# challenge 4: conditional with logical operations\n",
    "user_age = input(\"Please input your age in number: \")\n",
    "user_income = input(\"Please input your income in number: \")\n",
    "try:\n",
    "    if int(user_age) >= 18 and int(user_income) >= 50000:\n",
    "        print(\"you are eligible for the loan\")\n",
    "    else:\n",
    "        print(\"you are not eligible for the loan\")\n",
    "except:\n",
    "    print(\"Invalid input. Please enter a valid number.\")"
   ]
  }
 ],
 "metadata": {
  "kernelspec": {
   "display_name": "bootcamp",
   "language": "python",
   "name": "python3"
  },
  "language_info": {
   "codemirror_mode": {
    "name": "ipython",
    "version": 3
   },
   "file_extension": ".py",
   "mimetype": "text/x-python",
   "name": "python",
   "nbconvert_exporter": "python",
   "pygments_lexer": "ipython3",
   "version": "3.10.16"
  }
 },
 "nbformat": 4,
 "nbformat_minor": 5
}
