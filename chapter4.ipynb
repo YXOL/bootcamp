{
 "cells": [
  {
   "cell_type": "markdown",
   "id": "f66f7a94",
   "metadata": {},
   "source": [
    "CHAPTER 4: lists & loops"
   ]
  },
  {
   "cell_type": "code",
   "execution_count": 1,
   "id": "23eb9665",
   "metadata": {},
   "outputs": [
    {
     "name": "stdout",
     "output_type": "stream",
     "text": [
      "[5, 10, 15.2, 20]\n"
     ]
    }
   ],
   "source": [
    "# declaring a list of numbers\n",
    "nums = [5, 10, 15.2, 20]\n",
    "print(nums)"
   ]
  },
  {
   "cell_type": "code",
   "execution_count": null,
   "id": "465d6bd9",
   "metadata": {},
   "outputs": [
    {
     "name": "stdout",
     "output_type": "stream",
     "text": [
      "5\n"
     ]
    }
   ],
   "source": [
    "# declaring a list of numbers\n",
    "nums = [5, \"1\", 15.2, True]\n",
    "print(nums[0])       \n",
    "# will output the value at index 0"
   ]
  },
  {
   "cell_type": "code",
   "execution_count": null,
   "id": "4c73d6bc",
   "metadata": {},
   "outputs": [
    {
     "name": "stdout",
     "output_type": "stream",
     "text": [
      "[5, 'book', [34, 'hello'], True]\n",
      "[34, 'hello']\n",
      "34\n",
      "hello\n"
     ]
    }
   ],
   "source": [
    "# understanding lists within lists\n",
    "data = [5, \"book\", [ 34, \"hello\" ], True]     \n",
    "print(data)\n",
    "print( data[2] )\n",
    "print( data[2][0] ) #string and list can be indexed again\n",
    "inner_list = data[2]      \n",
    "print( inner_list[1] )    \n",
    "# inner list will equal [34, 'hello']\n",
    "# # will output 'hello'"
   ]
  },
  {
   "cell_type": "code",
   "execution_count": 8,
   "id": "656d3265",
   "metadata": {},
   "outputs": [
    {
     "name": "stdout",
     "output_type": "stream",
     "text": [
      "[5, 10, 15, 20]\n",
      "[100, 10, 15, 20]\n"
     ]
    }
   ],
   "source": [
    " # changing values in a list through index\n",
    "data = [5, 10, 15, 20]\n",
    "print(data)\n",
    "data[0] = 100            \n",
    "# change the value at index 0 - (5 to 100)\n",
    "print(data)"
   ]
  },
  {
   "cell_type": "code",
   "execution_count": 9,
   "id": "461850ef",
   "metadata": {},
   "outputs": [
    {
     "name": "stdout",
     "output_type": "stream",
     "text": [
      "1276202331200\n"
     ]
    }
   ],
   "source": [
    "# check ID\n",
    "a = [5, 10]\n",
    "print(id(a))"
   ]
  },
  {
   "cell_type": "code",
   "execution_count": 11,
   "id": "84889f1b",
   "metadata": {},
   "outputs": [
    {
     "name": "stdout",
     "output_type": "stream",
     "text": [
      "a: [5, 10]\t b: [5, 10]\n",
      "Location a[0]: 1276121645424\t Location b[0]: 1276121645424\n",
      "a: [20, 10]\t b: [20, 10]\n"
     ]
    }
   ],
   "source": [
    " # understanding how lists are stored\n",
    "a = [5, 10]\n",
    "b = a\n",
    "print( \"a: {}\\t b: {}\".format(a, b) )\n",
    "print( \"Location a[0]: {}\\t Location b[0]: {}\".format( id(a[0]), id(b[0]) ) )\n",
    "a[0] = 20                \n",
    "# re-declaring the value of a[0] also changes b[0]\n",
    "print( \"a: {}\\t b: {}\".format(a, b) )"
   ]
  },
  {
   "cell_type": "code",
   "execution_count": null,
   "id": "6c4c577d",
   "metadata": {},
   "outputs": [
    {
     "name": "stdout",
     "output_type": "stream",
     "text": [
      "data: [50, 10, 15, 20]\t data_copy: [5, 10, 15, 20]\n"
     ]
    }
   ],
   "source": [
    " # using [:] to copy a list\n",
    "data = [5, 10, 15, 20]\n",
    "data_copy = data[ : ]       \n",
    "# a single colon copies the list\n",
    "data[0] = 50\n",
    "print( \"data: {}\\t data_copy: {}\".format(data, data_copy) )\n",
    "# The output this time will result in only our data variable \n",
    "# having the first item set to 50. As data_copy was merely a copy of the list, \n",
    "# now we’re able to always keep the original list in tact if we need to use it again."
   ]
  },
  {
   "cell_type": "code",
   "execution_count": null,
   "id": "8558a76c",
   "metadata": {},
   "outputs": [
    {
     "name": "stdout",
     "output_type": "stream",
     "text": [
      "a: [1, 3, 21, 2]\t a_0: [4, 3, 21, 2]\n"
     ]
    }
   ],
   "source": [
    "# another way to copy\n",
    "a = [4, 3, 21, 2]\n",
    "a_0 = a.copy()\n",
    "a[0] = 1\n",
    "print(\"a: {}\\t a_0: {}\".format(a, a_0))"
   ]
  },
  {
   "cell_type": "code",
   "execution_count": 17,
   "id": "a445114b",
   "metadata": {},
   "outputs": [
    {
     "name": "stdout",
     "output_type": "stream",
     "text": [
      "the initial of the names are: J, A, S, K.\n"
     ]
    }
   ],
   "source": [
    "#For the following list, print out each item’s first letter. (output should be ‘J’, ‘A’, ‘S’, ‘K’)\n",
    "names = [\"John\" , \"Abraham\" , \"Sam\" , \"Kelly\"]\n",
    "print(\"the initial of the names are: {}, {}, {}, {}.\".format((names[0][0]), (names[1][0]), (names[2][0]), (names[3][0])))"
   ]
  },
  {
   "cell_type": "code",
   "execution_count": 19,
   "id": "cebcffb2",
   "metadata": {},
   "outputs": [
    {
     "name": "stdout",
     "output_type": "stream",
     "text": [
      "Value: 0\n",
      "Value: 1\n",
      "Value: 2\n",
      "Value: 3\n",
      "Value: 4\n"
     ]
    }
   ],
   "source": [
    " # writing your first for loop using range\n",
    "for num in range(5):\n",
    "    print( \"Value: {}\".format(num) )"
   ]
  },
  {
   "cell_type": "code",
   "execution_count": 24,
   "id": "afbcfb29",
   "metadata": {},
   "outputs": [
    {
     "name": "stdout",
     "output_type": "stream",
     "text": [
      "Value: 2\n",
      "Value: 4\n",
      "Value: 6\n",
      "Value: 8\n"
     ]
    }
   ],
   "source": [
    "# providing the start, stop, and step for the range function\n",
    "for num in range(2, 10, 2):\n",
    "    print( \"Value: {}\".format(num) )"
   ]
  },
  {
   "cell_type": "code",
   "execution_count": 2,
   "id": "a817f762",
   "metadata": {},
   "outputs": [
    {
     "name": "stdout",
     "output_type": "stream",
     "text": [
      "Value: J\n",
      "Value: o\n",
      "Value: h\n",
      "Value: n\n",
      "Value:  \n",
      "Value: S\n",
      "Value: m\n",
      "Value: i\n",
      "Value: t\n",
      "Value: h\n"
     ]
    }
   ],
   "source": [
    " # printing all characters in a name using the 'in' keyword\n",
    "name = \"John Smith\"\n",
    "for letter in name:\n",
    "    print( \"Value: {}\".format(letter) )"
   ]
  },
  {
   "cell_type": "code",
   "execution_count": 5,
   "id": "8a32c934",
   "metadata": {},
   "outputs": [
    {
     "name": "stdout",
     "output_type": "stream",
     "text": [
      "4\n",
      "5\n",
      "6\n",
      "7\n",
      "8\n",
      "9\n"
     ]
    }
   ],
   "source": [
    "# using the continue statement within a foor loop\n",
    "for num in range(10):\n",
    "    if num <= 3:\n",
    "        continue\n",
    "    print(num)"
   ]
  },
  {
   "cell_type": "code",
   "execution_count": 6,
   "id": "6b302060",
   "metadata": {},
   "outputs": [
    {
     "name": "stdout",
     "output_type": "stream",
     "text": [
      "0\n",
      "1\n",
      "2\n"
     ]
    }
   ],
   "source": [
    " # breaking out of a loop using the 'break' keyword\n",
    "for num in range(5):\n",
    "    if num == 3:\n",
    "        break\n",
    "    print(num)"
   ]
  },
  {
   "cell_type": "code",
   "execution_count": 7,
   "id": "98eb9bc7",
   "metadata": {},
   "outputs": [],
   "source": [
    "# setting a placeholder using the 'pass' keyword\n",
    "for i in range(5):\n",
    "    # TODO: add code to print number\n",
    "    pass"
   ]
  },
  {
   "cell_type": "code",
   "execution_count": 13,
   "id": "58d7eb5c",
   "metadata": {},
   "outputs": [
    {
     "name": "stdout",
     "output_type": "stream",
     "text": [
      "3\t6\t9\t12\t15\t18\t21\t24\t27\t30\t33\t36\t39\t42\t45\t48\t51\t54\t57\t60\t63\t66\t69\t72\t75\t78\t81\t84\t87\t90\t93\t96\t99\t"
     ]
    }
   ],
   "source": [
    "# devide by 3\n",
    "for num in range(1, 101):  # Loop through numbers from 1 to 100\n",
    "    if num % 3 == 0:       # Check if the number is divisible by 3\n",
    "        print(num, end=\"\\t\")         # Print the number if it is divisible by 3\n"
   ]
  },
  {
   "cell_type": "code",
   "execution_count": 18,
   "id": "2c570808",
   "metadata": {},
   "outputs": [
    {
     "name": "stdout",
     "output_type": "stream",
     "text": [
      "Vowels in 'answer': ae\n"
     ]
    }
   ],
   "source": [
    "# Ask the user for input\n",
    "user_input = input(\"Enter some text: \")\n",
    "\n",
    "# Initialize an empty string to store vowels\n",
    "vowels = \"\"\n",
    "\n",
    "# Loop through each character in the input\n",
    "for char in user_input:\n",
    "    if char.lower() in \"aeiou\":  # Check if the character is a vowel (case-insensitive)\n",
    "        vowels += char  # Add the vowel to the string\n",
    "\n",
    "# Output the vowels\n",
    "print(\"Vowels in '{}': {}\".format(user_input, vowels))"
   ]
  },
  {
   "cell_type": "markdown",
   "id": "84aa66c6",
   "metadata": {},
   "source": [
    "WHILE LOOP"
   ]
  },
  {
   "cell_type": "code",
   "execution_count": 20,
   "id": "a18fe039",
   "metadata": {},
   "outputs": [
    {
     "name": "stdout",
     "output_type": "stream",
     "text": [
      "10\n",
      "9\n",
      "8\n",
      "7\n",
      "6\n",
      "5\n",
      "4\n",
      "3\n",
      "2\n",
      "1\n"
     ]
    }
   ],
   "source": [
    " # writing your first while loop\n",
    "health = 10\n",
    "while health > 0:\n",
    "    print(health)\n",
    "    health -= 1     # forgetting this line will result in infinite loop"
   ]
  },
  {
   "cell_type": "code",
   "execution_count": 21,
   "id": "39955a3f",
   "metadata": {},
   "outputs": [
    {
     "name": "stdout",
     "output_type": "stream",
     "text": [
      "0 0\n",
      "0 1\n",
      "0 2\n",
      "1 0\n",
      "1 1\n",
      "1 2\n"
     ]
    }
   ],
   "source": [
    "# nested loops\n",
    "\"\"\"\n",
    "The concept of a loop within a loop is what we call a nested loop. The concepts of a loop \n",
    "still apply. When using nested loops, the inner loop must always finish running, before \n",
    "the outer loop can continue. Let’s see an example:\n",
    "\"\"\"\n",
    "# using two or more loops together is called a nested loop\n",
    "for i in range(2):   # outside loop\n",
    "    for j in range(3):     # inside loop\n",
    "        print( i, j )\n"
   ]
  },
  {
   "cell_type": "code",
   "execution_count": null,
   "id": "06cfc8c4",
   "metadata": {},
   "outputs": [
    {
     "name": "stdout",
     "output_type": "stream",
     "text": [
      "You entered: hello\n",
      "Goodbye!\n"
     ]
    }
   ],
   "source": [
    "# user input to quit\n",
    "user_input = input(\"Enter something (type 'quit' to exit): \").lower()\n",
    "\n",
    "while user_input != \"quit\":  # Loop continues as long as input is not \"quit\"\n",
    "    print(\"You entered: {}\".format(user_input))  # Print the user's input\n",
    "    user_input = input(\"Enter something (type 'quit' to exit): \").lower()  # Ask for input again\n",
    "\n",
    "print(\"Goodbye!\")  # Display a farewell message after exiting the loop"
   ]
  },
  {
   "cell_type": "code",
   "execution_count": 29,
   "id": "6358a7b1",
   "metadata": {},
   "outputs": [
    {
     "name": "stdout",
     "output_type": "stream",
     "text": [
      "0\n",
      "1\n",
      "2\n"
     ]
    }
   ],
   "source": [
    "# double loop\n",
    "game_over = False  # Initialize game_over as False\n",
    "\n",
    "while not game_over:  # The while loop will continue until game_over is True\n",
    "    for num in range(6):  # Loop from 0 to 5\n",
    "        if num == 3:  # Check if the current number is 3\n",
    "            game_over = True  # Set game_over to True and break out of the for loop\n",
    "            break\n",
    "        print(num)  # Print the current number"
   ]
  },
  {
   "cell_type": "markdown",
   "id": "776e837c",
   "metadata": {},
   "source": [
    "WORKING  WITH LISTS"
   ]
  },
  {
   "cell_type": "code",
   "execution_count": null,
   "id": "1745efda",
   "metadata": {},
   "outputs": [
    {
     "name": "stdout",
     "output_type": "stream",
     "text": [
      "3\n",
      "[10, 15]\n",
      "[5, 10]\n",
      "[5, 15]\n",
      "[10, 15]\n"
     ]
    }
   ],
   "source": [
    "# checking the number of items within a list: [start : stop : step]\n",
    "nums = [5, 10, 15]\n",
    "length = len(nums)        # len() returns an integer\n",
    "print(length)\n",
    "# accessing specific items of a list with slices\n",
    "print( nums[ 1 : 3 ] )       # will output items in index 1 and 2\n",
    "print( nums[ : 2 ] )         # will output items in index 0 and 1\n",
    "print( nums[ : : 2 ] )       # will print every other index - 0, 2, 4, etc.\n",
    "print( nums[ -2 : ] )        # will output the last two items in list"
   ]
  },
  {
   "cell_type": "code",
   "execution_count": 32,
   "id": "faadf937",
   "metadata": {},
   "outputs": [
    {
     "name": "stdout",
     "output_type": "stream",
     "text": [
      "[10, 20, 5]\n"
     ]
    }
   ],
   "source": [
    "# adding an item to the back of a list using append\n",
    "nums = [10, 20]\n",
    "nums.append(5)\n",
    "print(nums)           # outputs [10, 20, 5]"
   ]
  },
  {
   "cell_type": "code",
   "execution_count": 35,
   "id": "cd557caa",
   "metadata": {},
   "outputs": [
    {
     "name": "stdout",
     "output_type": "stream",
     "text": [
      "['glove', 'ball', 'base']\n"
     ]
    }
   ],
   "source": [
    " # adding a value to the beginning of the list\n",
    "words = [ \"ball\", \"base\" ]\n",
    "words.insert(0, \"glove\")   # first number is the index, second is the value\n",
    "print(words)"
   ]
  },
  {
   "cell_type": "code",
   "execution_count": 36,
   "id": "8467b019",
   "metadata": {},
   "outputs": [
    {
     "name": "stdout",
     "output_type": "stream",
     "text": [
      "5 \n",
      " ['ball']\n"
     ]
    }
   ],
   "source": [
    " # using pop to remove items and saving to a variable to use later\n",
    "items = [5, \"ball\", True]\n",
    "items.pop( )                   \n",
    "# by default removes the last item\n",
    "removed_item = items.pop(0)    \n",
    "# removes 5 and saves it into the variable\n",
    "print(removed_item, \"\\n\", items)"
   ]
  },
  {
   "cell_type": "code",
   "execution_count": 39,
   "id": "07d7152b",
   "metadata": {},
   "outputs": [
    {
     "name": "stdout",
     "output_type": "stream",
     "text": [
      "'soccer' has been removed from the list\n",
      "['baseball', 'football', 'hockey']\n"
     ]
    }
   ],
   "source": [
    "# using the remove method with a try and except\n",
    "sports = [ \"baseball\", \"soccer\", \"football\", \"hockey\" ]\n",
    "try:\n",
    "    sports.remove(\"soccer\")\n",
    "    print(\"'soccer' has been removed from the list\")\n",
    "except:\n",
    "    print(\"That item does not exist in the list\")\n",
    "print(sports)"
   ]
  },
  {
   "cell_type": "code",
   "execution_count": 40,
   "id": "acb1d5c4",
   "metadata": {},
   "outputs": [
    {
     "name": "stdout",
     "output_type": "stream",
     "text": [
      "3\n",
      "9\n",
      "17\n"
     ]
    }
   ],
   "source": [
    " # using min, max, and sum\n",
    "nums = [5, 3, 9]\n",
    "print( min(nums) )   # will find the lowest number in the list\n",
    "print( max(nums) )   # will find the highest number in the list\n",
    "print( sum(nums) )   # will add all numbers in the list and return the sum"
   ]
  },
  {
   "cell_type": "code",
   "execution_count": 41,
   "id": "951ac1b5",
   "metadata": {},
   "outputs": [
    {
     "name": "stdout",
     "output_type": "stream",
     "text": [
      "[5, 8, 0, 2] [0, 2, 5, 8]\n"
     ]
    }
   ],
   "source": [
    "# using sorted on lists for numerical and alphabetical data\n",
    "nums = [5, 8, 0, 2]\n",
    "sorted_nums = sorted(nums)     \n",
    "# save to a new variable to use later\n",
    "print(nums, sorted_nums)       \n",
    "# the original list is in tact"
   ]
  },
  {
   "cell_type": "code",
   "execution_count": 42,
   "id": "d9634139",
   "metadata": {},
   "outputs": [
    {
     "name": "stdout",
     "output_type": "stream",
     "text": [
      "[0, 3, 5, 8]\n"
     ]
    }
   ],
   "source": [
    "# sorting a list with .sort() in-place\n",
    "nums = [5, 0, 8, 3]\n",
    "nums.sort( )          \n",
    "# alters the original variable directly\n",
    "print(nums)"
   ]
  },
  {
   "cell_type": "code",
   "execution_count": 44,
   "id": "92a608be",
   "metadata": {},
   "outputs": [
    {
     "name": "stdout",
     "output_type": "stream",
     "text": [
      "'Marry' is found\n",
      "'Jimmy' is not found\n"
     ]
    }
   ],
   "source": [
    " # using conditional statements on a list\n",
    "names = [ \"Jack\", \"Robert\", \"Mary\" ]\n",
    "if \"Mary\" in names:\n",
    "    print(\"'Marry' is found\")          # will run since Mary is in the list\n",
    "if \"Jimmy\" not in names:\n",
    "    print(\"'Jimmy' is not found\")      # will run since Jimmy is not in the list"
   ]
  },
  {
   "cell_type": "code",
   "execution_count": 45,
   "id": "f291a601",
   "metadata": {},
   "outputs": [
    {
     "name": "stdout",
     "output_type": "stream",
     "text": [
      "empty\n"
     ]
    }
   ],
   "source": [
    "# using conditionals to see if a list is empty\n",
    "nums = []\n",
    "if not nums:            \n",
    "# could also say 'if nums == []'\n",
    "    print(\"empty\")"
   ]
  },
  {
   "cell_type": "code",
   "execution_count": 46,
   "id": "aebaf5cf",
   "metadata": {},
   "outputs": [
    {
     "name": "stdout",
     "output_type": "stream",
     "text": [
      "Baseball\n",
      "Hockey\n",
      "Football\n",
      "Basketball\n"
     ]
    }
   ],
   "source": [
    "# using a for loop to print all items in a list\n",
    "sports = [ \"Baseball\", \"Hockey\", \"Football\", \"Basketball\" ]\n",
    "for sport in sports:\n",
    "    print(sport)"
   ]
  },
  {
   "cell_type": "code",
   "execution_count": 47,
   "id": "0218873b",
   "metadata": {},
   "outputs": [
    {
     "name": "stdout",
     "output_type": "stream",
     "text": [
      "['Jack', 'Rob', 'Robert']\n"
     ]
    }
   ],
   "source": [
    "# using the while loop to remove a certain value\n",
    "names = [ \"Bob\", \"Jack\", \"Rob\", \"Bob\", \"Robert\" ]\n",
    "while \"Bob\" in names:\n",
    "    names.remove(\"Bob\")    \n",
    "# removes all instances of 'Bob'\n",
    "print(names)"
   ]
  },
  {
   "cell_type": "code",
   "execution_count": 48,
   "id": "15f0c9cd",
   "metadata": {},
   "outputs": [
    {
     "name": "stdout",
     "output_type": "stream",
     "text": [
      "Unique Names: ['Bob', 'Kenny', 'Amanda']\n"
     ]
    }
   ],
   "source": [
    "# remove duplicates\n",
    "names = ['Bob', 'Kenny', 'Amanda', 'Bob', 'Kenny']\n",
    "unique_names = []  # Initialize an empty list to store unique names\n",
    "\n",
    "for name in names:\n",
    "    if name not in unique_names:  # Check if the name is not already in the list\n",
    "        unique_names.append(name)  # Add the name to the list of unique names\n",
    "\n",
    "print(\"Unique Names:\", unique_names)"
   ]
  },
  {
   "cell_type": "code",
   "execution_count": 49,
   "id": "612c4ffc",
   "metadata": {},
   "outputs": [
    {
     "name": "stdout",
     "output_type": "stream",
     "text": [
      "Unique Names: ['Amanda', 'Bob', 'Kenny']\n"
     ]
    }
   ],
   "source": [
    "names = ['Bob', 'Kenny', 'Amanda', 'Bob', 'Kenny']\n",
    "\n",
    "for name in names[:]:  # Iterate over a copy of the list using slicing\n",
    "    while names.count(name) > 1:  # Check if there are duplicates of the current name\n",
    "        names.remove(name)  # Remove the duplicate from the list\n",
    "\n",
    "print(\"Unique Names:\", names)"
   ]
  },
  {
   "cell_type": "code",
   "execution_count": 50,
   "id": "6d04a27c",
   "metadata": {},
   "outputs": [
    {
     "name": "stdout",
     "output_type": "stream",
     "text": [
      "You entered:\n",
      "answer\n",
      "to do\n",
      "my question\n",
      "hello\n"
     ]
    }
   ],
   "source": [
    "# Initialize an empty list to store the user's input\n",
    "words_list = []\n",
    "\n",
    "# Start a while loop to keep asking for user input\n",
    "while True:\n",
    "    word = input(\"Enter a word (type 'quit' to exit): \").lower()  # Prompt user and convert to lowercase\n",
    "    if word == \"quit\":  # Check if the user wants to quit\n",
    "        break  # Exit the while loop\n",
    "    words_list.append(word)  # Add the word to the list\n",
    "\n",
    "# Use a for loop to display all the items in the list\n",
    "print(\"You entered:\")\n",
    "for word in words_list:\n",
    "    print(word)"
   ]
  },
  {
   "cell_type": "code",
   "execution_count": 57,
   "id": "04752b52",
   "metadata": {},
   "outputs": [
    {
     "name": "stdout",
     "output_type": "stream",
     "text": [
      "Word to guess: _ _ _ _ _ _ \n",
      "Lives: 7\n",
      "incorrect, you lost a life\n",
      "Word to guess: _ _ _ _ _ _ \n",
      "Lives: 6\n",
      "Thanks for playing.\n"
     ]
    }
   ],
   "source": [
    "#hanging man game\n",
    "# import additional functions\n",
    "from random import choice\n",
    "from IPython.display import clear_output\n",
    "# declare game variables\n",
    "words = [ \"tree\", \"basket\", \"chair\", \"paper\", \"python\" ]\n",
    "word = choice(words)     \n",
    "# randomly chooses a word from words list\n",
    "guessed, lives, game_over = [ ], 7, False   # multi variable assignment\n",
    "# create a list of underscores to the length of the word\n",
    "guesses = [ \"_ \" ] * len(word)\n",
    "\n",
    "# create main game loop\n",
    "while not game_over:\n",
    "        # output game information\n",
    "        hidden_word = \"\".join(guesses)\n",
    "        print( \"Word to guess: {}\".format(hidden_word) )\n",
    "        print( \"Lives: {}\".format(lives) )\n",
    "        ans = input()\n",
    "        ans = input(\"Type quit or guess a letter: \").lower()\n",
    "        if ans == \"quit\":\n",
    "                print(\"Thanks for playing.\")\n",
    "                game_over = True\n",
    "        elif ans in word:   # check if letter in word\n",
    "                print(\"you guessed correctly!\")\n",
    "        else:   # otherwise lose life\n",
    "                lives -= 1\n",
    "                print(\"incorrect, you lost a life\")"
   ]
  }
 ],
 "metadata": {
  "kernelspec": {
   "display_name": "bootcamp",
   "language": "python",
   "name": "python3"
  },
  "language_info": {
   "codemirror_mode": {
    "name": "ipython",
    "version": 3
   },
   "file_extension": ".py",
   "mimetype": "text/x-python",
   "name": "python",
   "nbconvert_exporter": "python",
   "pygments_lexer": "ipython3",
   "version": "3.10.16"
  }
 },
 "nbformat": 4,
 "nbformat_minor": 5
}
