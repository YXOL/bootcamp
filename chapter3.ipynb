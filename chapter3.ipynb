{
 "cells": [
  {
   "cell_type": "code",
   "execution_count": null,
   "id": "57da804a",
   "metadata": {},
   "outputs": [
    {
     "name": "stdout",
     "output_type": "stream",
     "text": [
      "Football is my favorite sport\n"
     ]
    }
   ],
   "source": [
    "element = 'Football'\n",
    "print('{} is my favorite sport'.format(element))\n",
    "# you must define the variable before you can use/insert the variable"
   ]
  },
  {
   "cell_type": "code",
   "execution_count": null,
   "id": "df09836e",
   "metadata": {},
   "outputs": [
    {
     "name": "stdout",
     "output_type": "stream",
     "text": [
      "Hi, yx\n"
     ]
    }
   ],
   "source": [
    "# accepting and outputting user input\n",
    "# the input box is on the very top of the vscode window!!!!\n",
    "name = input('what is your name?')\n",
    "print('Hi, ' + name)"
   ]
  },
  {
   "cell_type": "code",
   "execution_count": 10,
   "id": "72a0c5d6",
   "metadata": {},
   "outputs": [
    {
     "name": "stdout",
     "output_type": "stream",
     "text": [
      "hello qq!\n"
     ]
    }
   ],
   "source": [
    "# saving what the user inputs\n",
    "ans = input(\"what is your name? \")\n",
    "print(\"hello {}!\".format(ans))"
   ]
  },
  {
   "cell_type": "code",
   "execution_count": 15,
   "id": "f8b530cf",
   "metadata": {},
   "outputs": [
    {
     "name": "stdout",
     "output_type": "stream",
     "text": [
      "yx\n"
     ]
    }
   ],
   "source": [
    "print(input(\"what is your name\"))"
   ]
  },
  {
   "cell_type": "code",
   "execution_count": null,
   "id": "46376464",
   "metadata": {},
   "outputs": [
    {
     "name": "stdout",
     "output_type": "stream",
     "text": [
      "<class 'int'>\n",
      "5\n"
     ]
    }
   ],
   "source": [
    "# how to check the data type of a variable\n",
    "num = 5.8\n",
    "num = int(num)\n",
    "# converting a float to an integer will truncate the decimal, as well as any numbers to the rght of the decimal (not rounding the float number!!)\n",
    "# N.B., not all data types can be converted properly, there are limits!\n",
    "print(type(num))\n",
    "print(num)"
   ]
  },
  {
   "cell_type": "code",
   "execution_count": 21,
   "id": "541d0ae9",
   "metadata": {},
   "outputs": [
    {
     "name": "stdout",
     "output_type": "stream",
     "text": [
      "<class 'str'>\n",
      "100 + 23 = 123\n"
     ]
    }
   ],
   "source": [
    "# working with user input to perform calculations\n",
    "# N.B., default user input type is string, must convert if any other operation is required\n",
    "ans = input(\"type a number to add with 100: \")\n",
    "print(type(ans))\n",
    "result = 100 + int(ans)\n",
    "print (\"100 + {} = {}\".format(ans, result))"
   ]
  },
  {
   "cell_type": "code",
   "execution_count": 22,
   "id": "5548ad00",
   "metadata": {},
   "outputs": [
    {
     "name": "stdout",
     "output_type": "stream",
     "text": [
      "23 + 47 = 70\n"
     ]
    }
   ],
   "source": [
    "num1 = input(\"number 1 is: \")\n",
    "num2 = input(\"number 2 is: \")\n",
    "result = int(num1) + int(num2)\n",
    "print (\"{} + {} = {}\".format(num1, num2, result))"
   ]
  },
  {
   "cell_type": "code",
   "execution_count": 32,
   "id": "6b290299",
   "metadata": {},
   "outputs": [
    {
     "name": "stdout",
     "output_type": "stream",
     "text": [
      "100 + 5.0 = 105.0\n",
      "the program did not break!\n"
     ]
    }
   ],
   "source": [
    "# USING THE try and except blocks, use tab to indent where necessary\n",
    "try:\n",
    "    ans = float( input(\"Type a number to add: \") )\n",
    "    print( \"100 + {} = {}\".format(ans, 100 + ans) )\n",
    "except:\n",
    "    print(\"You did not put in a valid number!\")\n",
    "#without try/except print statement would not get hit if error occurs\n",
    "print(\"the program did not break!\")"
   ]
  },
  {
   "cell_type": "code",
   "execution_count": 31,
   "id": "43deacca",
   "metadata": {},
   "outputs": [
    {
     "name": "stdout",
     "output_type": "stream",
     "text": [
      "100 + 3.0 = 103.0\n"
     ]
    }
   ],
   "source": [
    "ans = float( input(\"Type a number to add: \") )\n",
    "print( \"100 + {} = {}\".format(ans, 100 + ans) )"
   ]
  },
  {
   "cell_type": "code",
   "execution_count": 36,
   "id": "ae1a5af4",
   "metadata": {},
   "outputs": [
    {
     "name": "stdout",
     "output_type": "stream",
     "text": [
      "True\n",
      "<class 'bool'>\n",
      "3\n"
     ]
    }
   ],
   "source": [
    "ans = bool(input(\"type 'true' or 'false': \"))\n",
    "print(ans)\n",
    "print(type(ans))\n",
    "print(ans + 2)"
   ]
  },
  {
   "cell_type": "code",
   "execution_count": 37,
   "id": "c56b3fd9",
   "metadata": {},
   "outputs": [
    {
     "name": "stdout",
     "output_type": "stream",
     "text": [
      "your car info is: 2018 blue chevrolet silverado\n"
     ]
    }
   ],
   "source": [
    "year = input(\"input the year of your car: \")\n",
    "color = input(\"input the color of your car: \")\n",
    "make = input(\"input the make of your car: \")\n",
    "model = input(\"input the model of your car: \")\n",
    "print(\"your car info is: {} {} {} {}\".format(year, color, make, model))"
   ]
  },
  {
   "cell_type": "markdown",
   "id": "fb72da68",
   "metadata": {},
   "source": [
    "IF STATEMENT"
   ]
  },
  {
   "cell_type": "code",
   "execution_count": 40,
   "id": "7d5c6118",
   "metadata": {},
   "outputs": [],
   "source": [
    "# USING an if statement to only run code if the condition is met\n",
    "x, y = 15, 10\n",
    "if x < y:\n",
    "    print(\"x is less than y\")"
   ]
  },
  {
   "cell_type": "code",
   "execution_count": null,
   "id": "0ee8f0f2",
   "metadata": {},
   "outputs": [
    {
     "name": "stdout",
     "output_type": "stream",
     "text": [
      "you got it right!\n"
     ]
    }
   ],
   "source": [
    "# a great use for our newly learned CONDITIONAL STATEMENT is for checking user input:\n",
    "ans = int(input(\"what is the result of 5 + 5?\"))\n",
    "# N.B., we immediately convert the user input into integer here so that the comparison operator can work!\n",
    "# if you still want to avoid a possible error, use \"try & except\" here to make sure the input has converted into a comaparible type\n",
    "if ans == 10:\n",
    "    print(\"you got it right!\")\n",
    "else:\n",
    "    print(\"your answer is wrong, try it again!\")"
   ]
  },
  {
   "cell_type": "code",
   "execution_count": 43,
   "id": "0211acfb",
   "metadata": {},
   "outputs": [
    {
     "name": "stdout",
     "output_type": "stream",
     "text": [
      "both statements were true\n"
     ]
    }
   ],
   "source": [
    "# using the keyword 'and' in an 'if statement'\n",
    "x, y, z = 5, 10, 5\n",
    "if x< y and x == z:\n",
    "    print(\"both statements were true\")"
   ]
  },
  {
   "cell_type": "code",
   "execution_count": 44,
   "id": "d720402c",
   "metadata": {},
   "outputs": [
    {
     "name": "stdout",
     "output_type": "stream",
     "text": [
      "at least one of the statements is true\n"
     ]
    }
   ],
   "source": [
    "# USING THE KEYWORD 'or' in an if statement\n",
    "x, y, z = 5, 10, 5\n",
    "if x < y or x != z or x > z:\n",
    "    print(\"at least one of the statements is true\")"
   ]
  },
  {
   "cell_type": "code",
   "execution_count": 49,
   "id": "727912ca",
   "metadata": {},
   "outputs": [],
   "source": [
    " # using the keyword 'not' within an 'if statement'\n",
    "flag = 1\n",
    "if not flag == 1:                  \n",
    "    print(\"Flag is False\")"
   ]
  },
  {
   "cell_type": "code",
   "execution_count": 51,
   "id": "4ecb05c5",
   "metadata": {},
   "outputs": [
    {
     "name": "stdout",
     "output_type": "stream",
     "text": [
      "'baseball' contains the character 'b'\n"
     ]
    }
   ],
   "source": [
    "# using the keyword 'in' within an if statement\n",
    "word = \"baseball\"\n",
    "if \"b\" in word:\n",
    "    print(\"'{}' contains the character 'b'\".format(word))"
   ]
  },
  {
   "cell_type": "code",
   "execution_count": 54,
   "id": "cc671398",
   "metadata": {},
   "outputs": [
    {
     "name": "stdout",
     "output_type": "stream",
     "text": [
      "'baseball' does not contain the character 'x'\n"
     ]
    }
   ],
   "source": [
    "# using the keyword 'not in' within an if statement\n",
    "word = \"baseball\"\n",
    "checking_character = \"x\"\n",
    "if checking_character not in word:\n",
    "    print(\"'{}' does not contain the character '{}'\".format(word, checking_character))"
   ]
  },
  {
   "cell_type": "code",
   "execution_count": 57,
   "id": "e43fba72",
   "metadata": {},
   "outputs": [
    {
     "name": "stdout",
     "output_type": "stream",
     "text": [
      "'english' does not contain 'es'\n"
     ]
    }
   ],
   "source": [
    "input_word = input(\"please input an english word: \")\n",
    "checking_character = \"es\"\n",
    "if checking_character in input_word:\n",
    "    print(\"'{}' contains '{}'\".format(input_word, checking_character))\n",
    "else:\n",
    "    print(\"'{}' does not contain '{}'\".format(input_word, checking_character))"
   ]
  },
  {
   "cell_type": "code",
   "execution_count": 58,
   "id": "e23ee5b0",
   "metadata": {},
   "outputs": [
    {
     "name": "stdout",
     "output_type": "stream",
     "text": [
      "The word does not end with 'ing'.\n"
     ]
    }
   ],
   "source": [
    "# Ask the user for input\n",
    "user_input = input(\"Please enter a word: \")\n",
    "\n",
    "# Check if the input ends with \"ing\"\n",
    "if user_input[-3:] == \"ing\":\n",
    "    print(\"The word ends with 'ing'.\")\n",
    "else:\n",
    "    print(\"The word does not end with 'ing'.\")"
   ]
  },
  {
   "cell_type": "code",
   "execution_count": 59,
   "id": "2b8f4ffd",
   "metadata": {},
   "outputs": [
    {
     "name": "stdout",
     "output_type": "stream",
     "text": [
      "The words are different.\n"
     ]
    }
   ],
   "source": [
    "# Ask the user to input two words\n",
    "word1 = input(\"Enter the first word: \")\n",
    "word2 = input(\"Enter the second word: \")\n",
    "\n",
    "# Check if both words are the same (case insensitive)\n",
    "if word1.lower() == word2.lower():\n",
    "    print(\"The words are the same!\")\n",
    "else:\n",
    "    print(\"The words are different.\")"
   ]
  },
  {
   "cell_type": "code",
   "execution_count": 61,
   "id": "9ab5cf58",
   "metadata": {},
   "outputs": [
    {
     "name": "stdout",
     "output_type": "stream",
     "text": [
      "34.0\n"
     ]
    }
   ],
   "source": [
    "num1 = float(input(\"please input a number:\"))\n",
    "num2 = float(input(\"please input another number:\"))\n",
    "if num1 < 10 and num2 < 10:\n",
    "    result = (num1 * num1) + (num2 * num2)\n",
    "    print(result)"
   ]
  },
  {
   "cell_type": "markdown",
   "id": "3995da0e",
   "metadata": {},
   "source": [
    "ELIF STATEMENT"
   ]
  },
  {
   "cell_type": "code",
   "execution_count": 62,
   "id": "80adc569",
   "metadata": {},
   "outputs": [
    {
     "name": "stdout",
     "output_type": "stream",
     "text": [
      "x is less\n"
     ]
    }
   ],
   "source": [
    " # using the elif conditional statement\n",
    "x, y = 5, 10\n",
    "if x > y:\n",
    "    print(\"x is greater\")\n",
    "elif x < y:\n",
    "    print(\"x is less\")\n",
    "elif x == y:\n",
    "    print(\"x equals to y\")"
   ]
  },
  {
   "cell_type": "code",
   "execution_count": 64,
   "id": "36805aaf",
   "metadata": {},
   "outputs": [
    {
     "name": "stdout",
     "output_type": "stream",
     "text": [
      "x is not equal to z\n"
     ]
    }
   ],
   "source": [
    "# multiple block levels\n",
    "x, y, z = 5, 10, 4\n",
    "if x > y:\n",
    "    print(\"x is greater than y\")\n",
    "elif x <= y:\n",
    "    if x == z:\n",
    "        print(\"x is equal to z\")       \n",
    "# resulting output\n",
    "    elif x != z:\n",
    "        print(\"x is not equal to z\")   # won't get hit"
   ]
  },
  {
   "cell_type": "code",
   "execution_count": 66,
   "id": "6cc92156",
   "metadata": {},
   "outputs": [
    {
     "name": "stdout",
     "output_type": "stream",
     "text": [
      "You chose divide.\n",
      "You chose divide.\n",
      "Please keep in mind that the order of your numbers matter.\n",
      "First Number: 58\n",
      "Second Number: 43\n",
      "58.0 / 43.0 = 1.3488372093023255\n"
     ]
    }
   ],
   "source": [
    "# step 1: ask user for calculation to be performed\n",
    "operation = input(\"Would you like to add/subtract/multiply/divide? \").lower( )\n",
    "print( \"You chose {}.\".format(operation) ) \n",
    "# step 2: ask for numbers, alert order matters for subtracting and dividing\n",
    "if operation == \"subtract\" or operation == \"divide\":\n",
    "    print( \"You chose {}.\".format(operation) )\n",
    "    print(\"Please keep in mind that the order of your numbers matter.\")\n",
    "num1 = input(\"What is the first number? \")\n",
    "num2 = input(\"What is the second number? \")\n",
    "print( \"First Number: {}\".format(num1) )   # for testing purposes\n",
    "print( \"Second Number: {}\".format(num2) )   # for testing purposes\n",
    "# step 3: setup try/except for mathematical operation\n",
    "try:\n",
    "# step 3a: immediately try to convert numbers input to floats\n",
    "    num1, num2 = float(num1), float(num2)\n",
    "# step 3b: perform operation and print result\n",
    "    if operation == \"add\":\n",
    "        result = num1 + num2\n",
    "        print( \"{} + {} = {}\".format(num1, num2, result) )\n",
    "    elif operation == \"subtract\":\n",
    "        result = num1 - num2\n",
    "        print( \"{} - {} = {}\".format(num1, num2, result) )\n",
    "    elif operation == \"multiply\":\n",
    "        result = num1 * num2\n",
    "        print( \"{} * {} = {}\".format(num1, num2, result) )\n",
    "    elif operation == \"divide\":\n",
    "        result = num1 / num2\n",
    "        print( \"{} / {} = {}\".format(num1, num2, result) )\n",
    "    else:\n",
    "    # else will be hit if they didn't chose an option correctly\n",
    "        print(\"Sorry, but '{ }' is not an option.\".format(operation) )\n",
    "except:\n",
    "# steb 3c: print error\n",
    "    print(\"Error: Improper numbers used. Please try again.\")"
   ]
  },
  {
   "cell_type": "code",
   "execution_count": 1,
   "id": "0213c3f3",
   "metadata": {},
   "outputs": [
    {
     "name": "stdout",
     "output_type": "stream",
     "text": [
      "you are a senior.\n"
     ]
    }
   ],
   "source": [
    "#age group\n",
    "user_age = float(input(\"what is your age?\"))\n",
    "if user_age >= 0 and user_age <= 12:\n",
    "    print(\"you are a kid.\")\n",
    "elif user_age >= 13 and user_age <= 19:\n",
    "    print(\"you are a teenager.\")\n",
    "elif user_age >= 20 and user_age <= 30:\n",
    "    print(\"youare a young adult.\")\n",
    "elif user_age >= 31 and user_age <= 64:\n",
    "    print(\"you are an adult.\")\n",
    "elif user_age >= 65:\n",
    "    print(\"you are a senior.\")"
   ]
  },
  {
   "cell_type": "code",
   "execution_count": null,
   "id": "a14ad426",
   "metadata": {},
   "outputs": [],
   "source": []
  }
 ],
 "metadata": {
  "kernelspec": {
   "display_name": "bootcamp",
   "language": "python",
   "name": "python3"
  },
  "language_info": {
   "codemirror_mode": {
    "name": "ipython",
    "version": 3
   },
   "file_extension": ".py",
   "mimetype": "text/x-python",
   "name": "python",
   "nbconvert_exporter": "python",
   "pygments_lexer": "ipython3",
   "version": "3.10.16"
  }
 },
 "nbformat": 4,
 "nbformat_minor": 5
}
